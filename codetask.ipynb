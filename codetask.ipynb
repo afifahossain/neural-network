{
  "nbformat": 4,
  "nbformat_minor": 0,
  "metadata": {
    "colab": {
      "name": "codetask.ipynb",
      "provenance": [],
      "authorship_tag": "ABX9TyN2FSvZy+FbBLeFSNEqVP0Y",
      "include_colab_link": true
    },
    "kernelspec": {
      "name": "python3",
      "display_name": "Python 3"
    },
    "language_info": {
      "name": "python"
    }
  },
  "cells": [
    {
      "cell_type": "markdown",
      "metadata": {
        "id": "view-in-github",
        "colab_type": "text"
      },
      "source": [
        "<a href=\"https://colab.research.google.com/github/afifahossain/neural-network/blob/main/codetask.ipynb\" target=\"_parent\"><img src=\"https://colab.research.google.com/assets/colab-badge.svg\" alt=\"Open In Colab\"/></a>"
      ]
    },
    {
      "cell_type": "code",
      "metadata": {
        "id": "Ab_vdc7591E6"
      },
      "source": [
        "import numpy as np"
      ],
      "execution_count": null,
      "outputs": []
    },
    {
      "cell_type": "code",
      "metadata": {
        "id": "CTIzEUIn-JGv"
      },
      "source": [
        "def sigmoid(x):\n",
        "    return 1/(1 + np.exp(-x))\n",
        "\n",
        "def d_sigmoid(x):\n",
        "    return (1 - sigmoid(x)) * sigmoid(x)\n",
        "\n",
        "def relu(x):\n",
        "    return np.maximum(0, x)\n",
        "\n",
        "def d_relu(x):\n",
        "    x[x<=0] = 0\n",
        "    x[x>0] = 1\n",
        "    return x"
      ],
      "execution_count": null,
      "outputs": []
    },
    {
      "cell_type": "code",
      "metadata": {
        "id": "Who5-dyTC0mO"
      },
      "source": [
        "def logloss(y, a):\n",
        "    return -(y*np.log(a) + (1-y)*np.log(1-a))\n",
        "\n",
        "def d_logloss(y, a):\n",
        "    return (a - y)/(a*(1 - a))\t"
      ],
      "execution_count": null,
      "outputs": []
    },
    {
      "cell_type": "code",
      "metadata": {
        "id": "XKUOdL-3C7ro"
      },
      "source": [
        "class Layer:\n",
        "\n",
        "    activationFunctions = {\n",
        "        'relu': (relu, d_relu),\n",
        "        'sigmoid': (sigmoid, d_sigmoid)\n",
        "    }\n",
        "    learning_rate = 0.1\n",
        "\n",
        "    def __init__(self, inputs, neurons, activation):\n",
        "        self.W = np.random.randn(neurons, inputs)\n",
        "        self.b = np.zeros((neurons, 1))\n",
        "        self.act, self.d_act = self.activationFunctions.get(activation)\n",
        "\n",
        "    def feedforward(self, A_prev):\n",
        "        self.A_prev = A_prev\n",
        "        self.Z = np.dot(self.W, self.A_prev) + self.b\n",
        "        self.A = self.act(self.Z)\n",
        "        return self.A\n",
        "\n",
        "    def backprop(self, dA):\n",
        "        dZ = np.multiply(self.d_act(self.Z), dA)\n",
        "        dW = 1/dZ.shape[1] * np.dot(dZ, self.A_prev.T)\n",
        "        db = 1/dZ.shape[1] * np.sum(dZ, axis=1, keepdims=True)\n",
        "        dA_prev = np.dot(self.W.T, dZ)\n",
        "\n",
        "        self.W = self.W - self.learning_rate * dW\n",
        "        self.b = self.b - self.learning_rate * db\n",
        "\n",
        "        return dA_prev"
      ],
      "execution_count": null,
      "outputs": []
    },
    {
      "cell_type": "code",
      "metadata": {
        "colab": {
          "base_uri": "https://localhost:8080/"
        },
        "id": "HxPj7hAPDNe3",
        "outputId": "af5918c8-ff66-4841-868e-a27cbcc31921"
      },
      "source": [
        "x_train = np.array([[0, 0, 1, 1], [0, 1, 0, 1]]) \n",
        "y_train = np.array([[0, 1, 1, 0]]) \n",
        "\n",
        "m = 4\n",
        "epochs = 1500\n",
        "\n",
        "layers = [Layer(2, 4, 'relu'), Layer(4, 1, 'sigmoid')]\n",
        "costs = [] \n",
        "\n",
        "for epoch in range(epochs):\n",
        "    A = x_train\n",
        "    for layer in layers:\n",
        "        A = layer.feedforward(A)\n",
        "\n",
        "    cost = 1/m * np.sum(logloss(y_train, A))\n",
        "    costs.append(cost)\n",
        "\n",
        "    dA = d_logloss(y_train, A)\n",
        "    for layer in reversed(layers):\n",
        "        dA = layer.backprop(dA)\n",
        "\n",
        "\n",
        "# Making predictions\n",
        "A = x_train\n",
        "for layer in layers:\n",
        "    A = layer.feedforward(A)\n",
        "print(A)"
      ],
      "execution_count": null,
      "outputs": [
        {
          "output_type": "stream",
          "text": [
            "[[0.49938136 0.99367936 0.49938136 0.00674689]]\n"
          ],
          "name": "stdout"
        }
      ]
    },
    {
      "cell_type": "code",
      "metadata": {
        "id": "8seXdgfJDn4n",
        "colab": {
          "base_uri": "https://localhost:8080/",
          "height": 282
        },
        "outputId": "b259f216-9799-4a69-a6b1-79d357c1fe59"
      },
      "source": [
        "import matplotlib.pyplot as plt\n",
        "plt.plot(range(epochs), costs)"
      ],
      "execution_count": null,
      "outputs": [
        {
          "output_type": "execute_result",
          "data": {
            "text/plain": [
              "[<matplotlib.lines.Line2D at 0x7fce6d7a2d90>]"
            ]
          },
          "metadata": {
            "tags": []
          },
          "execution_count": 25
        },
        {
          "output_type": "display_data",
          "data": {
            "image/png": "[encoded data removed]",
            "text/plain": [
              "<Figure size 432x288 with 1 Axes>"
            ]
          },
          "metadata": {
            "tags": [],
            "needs_background": "light"
          }
        }
      ]
    }
  ]
}